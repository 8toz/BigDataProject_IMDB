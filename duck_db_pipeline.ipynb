{
 "cells": [
  {
   "cell_type": "code",
   "execution_count": 5,
   "metadata": {},
   "outputs": [
    {
     "name": "stdout",
     "output_type": "stream",
     "text": [
      "The autoreload module is not an IPython extension.\n"
     ]
    }
   ],
   "source": [
    "import pandas as pd\n",
    "import  duckdb\n",
    "\n",
    "from duckdb_flow.etl import preprocess_data, get_processed_files\n",
    "from duckdb_flow.create_database import create_database\n",
    "\n",
    "%load_ext autoreload"
   ]
  },
  {
   "cell_type": "code",
   "execution_count": 2,
   "metadata": {},
   "outputs": [],
   "source": [
    "STAGING_PATH = \"./data\"\n",
    "DATABASE_PATH = \"./database/DDBB_duckdb.duckdb\""
   ]
  },
  {
   "cell_type": "code",
   "execution_count": 3,
   "metadata": {},
   "outputs": [
    {
     "data": {
      "text/plain": [
       "'Database Created'"
      ]
     },
     "execution_count": 3,
     "metadata": {},
     "output_type": "execute_result"
    }
   ],
   "source": [
    "create_database()"
   ]
  },
  {
   "cell_type": "code",
   "execution_count": 4,
   "metadata": {},
   "outputs": [
    {
     "name": "stdout",
     "output_type": "stream",
     "text": [
      "Created  directing_df  dataframe.\n",
      "Appending:  963  rows...\n",
      "Appending:  993  rows...\n",
      "Appending:  951  rows...\n",
      "Appending:  1049  rows...\n",
      "Appending:  974  rows...\n",
      "Appending:  1001  rows...\n",
      "Appending:  1035  rows...\n",
      "Appending:  993  rows...\n",
      "Created  writing_df  dataframe.\n"
     ]
    }
   ],
   "source": [
    "processed_files = get_processed_files()\n",
    "movies_df, directing_data, writing_data  = preprocess_data(processed_files)"
   ]
  },
  {
   "cell_type": "code",
   "execution_count": 10,
   "metadata": {},
   "outputs": [
    {
     "data": {
      "text/plain": [
       "(10000, 8)"
      ]
     },
     "execution_count": 10,
     "metadata": {},
     "output_type": "execute_result"
    }
   ],
   "source": [
    "STAGING_PATH = \"./data\"\n",
    "DATABASE_PATH = \"./database/DDBB_duckdb.duckdb\"\n",
    "\n",
    "\n",
    "con = duckdb.connect(database=DATABASE_PATH, read_only=False)\n",
    "result = con.execute('''select * from movies''').fetch_df()\n",
    "result.shape\n"
   ]
  },
  {
   "cell_type": "code",
   "execution_count": null,
   "metadata": {},
   "outputs": [],
   "source": []
  }
 ],
 "metadata": {
  "kernelspec": {
   "display_name": "env_bd",
   "language": "python",
   "name": "python3"
  },
  "language_info": {
   "codemirror_mode": {
    "name": "ipython",
    "version": 3
   },
   "file_extension": ".py",
   "mimetype": "text/x-python",
   "name": "python",
   "nbconvert_exporter": "python",
   "pygments_lexer": "ipython3",
   "version": "3.11.7"
  }
 },
 "nbformat": 4,
 "nbformat_minor": 2
}
