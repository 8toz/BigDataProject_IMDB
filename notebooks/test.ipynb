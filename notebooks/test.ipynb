{
 "cells": [
  {
   "cell_type": "code",
   "execution_count": 1,
   "id": "initial_id",
   "metadata": {
    "collapsed": true,
    "ExecuteTime": {
     "end_time": "2024-02-14T15:01:50.927733600Z",
     "start_time": "2024-02-14T15:01:49.596656400Z"
    }
   },
   "outputs": [],
   "source": [
    "import pandas as pd\n",
    "from pipeline import Dataset"
   ]
  },
  {
   "cell_type": "code",
   "execution_count": 2,
   "outputs": [
    {
     "name": "stderr",
     "output_type": "stream",
     "text": [
      "C:\\Users\\olive\\Desktop\\MSc\\BigDataProject_IMDB\\pipeline\\_dataset.py:50: FutureWarning: A value is trying to be set on a copy of a DataFrame or Series through chained assignment using an inplace method.\n",
      "The behavior will change in pandas 3.0. This inplace method will never work because the intermediate object on which we are setting values always behaves as a copy.\n",
      "\n",
      "For example, when doing 'df[col].method(value, inplace=True)', try using 'df.method({col: value}, inplace=True)' or df[col] = df[col].method(value) instead, to perform the operation inplace on the original object.\n",
      "\n",
      "\n",
      "  df[\"numVotes\"].fillna(df[\"numVotes\"].median(), inplace=True)  # We fill nan values with median of votes.\n",
      "C:\\Users\\olive\\Desktop\\MSc\\BigDataProject_IMDB\\pipeline\\_dataset.py:51: FutureWarning: A value is trying to be set on a copy of a DataFrame or Series through chained assignment using an inplace method.\n",
      "The behavior will change in pandas 3.0. This inplace method will never work because the intermediate object on which we are setting values always behaves as a copy.\n",
      "\n",
      "For example, when doing 'df[col].method(value, inplace=True)', try using 'df.method({col: value}, inplace=True)' or df[col] = df[col].method(value) instead, to perform the operation inplace on the original object.\n",
      "\n",
      "\n",
      "  df[\"runtimeMinutes\"].replace({r\"\\N\": None}, inplace=True)\n",
      "C:\\Users\\olive\\Desktop\\MSc\\BigDataProject_IMDB\\pipeline\\_dataset.py:52: FutureWarning: A value is trying to be set on a copy of a DataFrame or Series through chained assignment using an inplace method.\n",
      "The behavior will change in pandas 3.0. This inplace method will never work because the intermediate object on which we are setting values always behaves as a copy.\n",
      "\n",
      "For example, when doing 'df[col].method(value, inplace=True)', try using 'df.method({col: value}, inplace=True)' or df[col] = df[col].method(value) instead, to perform the operation inplace on the original object.\n",
      "\n",
      "\n",
      "  df[\"runtimeMinutes\"].fillna(df[\"runtimeMinutes\"].median(), inplace=True)\n"
     ]
    }
   ],
   "source": [
    "dataset = Dataset(splits=(0.8, 0.2))\n",
    "dataset.generate_datasplit()"
   ],
   "metadata": {
    "collapsed": false,
    "ExecuteTime": {
     "end_time": "2024-02-14T15:01:56.113741Z",
     "start_time": "2024-02-14T15:01:51.194743300Z"
    }
   },
   "id": "79e8d896c26d9ad3"
  },
  {
   "cell_type": "code",
   "execution_count": 3,
   "outputs": [],
   "source": [
    "train_df = dataset.train_df"
   ],
   "metadata": {
    "collapsed": false,
    "ExecuteTime": {
     "end_time": "2024-02-14T15:01:56.857613300Z",
     "start_time": "2024-02-14T15:01:56.836605800Z"
    }
   },
   "id": "d33ec424d1e26cce"
  },
  {
   "cell_type": "code",
   "execution_count": 4,
   "outputs": [
    {
     "data": {
      "text/plain": "      index runtimeMinutes                      primaryTitle  label  numVotes  \\\n491     491            100                   A Good American   True    1181.0   \n1078   1078            108               Miracle in the Rain   True    4701.0   \n889     889            105                        Invincible   True   68930.0   \n556     556            100  Shootfighter: Fight to the Death  False    1193.0   \n3581   3581             95                    Marie-Francine  False    1153.0   \n...     ...            ...                               ...    ...       ...   \n3844   3844             98                       Night Shift  False    1325.0   \n2079   2079            157                           Khiladi   True    7963.0   \n765     765            103                      Summer Hours   True    7542.0   \n2783   2783             87                       Dirty Deeds  False    8522.0   \n3764   3764             97                       Jack's Back  False    3301.0   \n\n                         originalTitle  director_score_mean_mean  \\\n491                    A Good American                  1.000000   \n1078               Miracle in the Rain                  1.000000   \n889                         Invincible                  1.000000   \n556   Shootfighter: Fight to the Death                  0.000000   \n3581                    Marie-Francine                  0.000000   \n...                                ...                       ...   \n3844                            Police                  0.000000   \n2079                           Khiladi                  0.272727   \n765                      L'heure d'été                  1.000000   \n2783                       Dirty Deeds                  0.000000   \n3764                       Jack's Back                  0.000000   \n\n      director_score_mean_total  writer_score_mean_mean  \\\n491                         1.0                1.000000   \n1078                        3.0                0.757576   \n889                         1.0                1.000000   \n556                         0.0                0.000000   \n3581                        0.0                0.000000   \n...                         ...                     ...   \n3844                        0.0                0.000000   \n2079                        3.0                1.000000   \n765                        31.0                1.000000   \n2783                        0.0                0.000000   \n3764                        0.0                0.000000   \n\n      writer_score_mean_total  year  titles_changed  \n491                       1.0  2015           False  \n1078                     25.0  1956           False  \n889                       1.0  2006           False  \n556                       0.0  1993           False  \n3581                      0.0  2017           False  \n...                       ...   ...             ...  \n3844                      0.0  2020            True  \n2079                      2.0  1992           False  \n765                      23.0  2008            True  \n2783                      0.0  2005           False  \n3764                      0.0  1988           False  \n\n[3971 rows x 12 columns]",
      "text/html": "<div>\n<style scoped>\n    .dataframe tbody tr th:only-of-type {\n        vertical-align: middle;\n    }\n\n    .dataframe tbody tr th {\n        vertical-align: top;\n    }\n\n    .dataframe thead th {\n        text-align: right;\n    }\n</style>\n<table border=\"1\" class=\"dataframe\">\n  <thead>\n    <tr style=\"text-align: right;\">\n      <th></th>\n      <th>index</th>\n      <th>runtimeMinutes</th>\n      <th>primaryTitle</th>\n      <th>label</th>\n      <th>numVotes</th>\n      <th>originalTitle</th>\n      <th>director_score_mean_mean</th>\n      <th>director_score_mean_total</th>\n      <th>writer_score_mean_mean</th>\n      <th>writer_score_mean_total</th>\n      <th>year</th>\n      <th>titles_changed</th>\n    </tr>\n  </thead>\n  <tbody>\n    <tr>\n      <th>491</th>\n      <td>491</td>\n      <td>100</td>\n      <td>A Good American</td>\n      <td>True</td>\n      <td>1181.0</td>\n      <td>A Good American</td>\n      <td>1.000000</td>\n      <td>1.0</td>\n      <td>1.000000</td>\n      <td>1.0</td>\n      <td>2015</td>\n      <td>False</td>\n    </tr>\n    <tr>\n      <th>1078</th>\n      <td>1078</td>\n      <td>108</td>\n      <td>Miracle in the Rain</td>\n      <td>True</td>\n      <td>4701.0</td>\n      <td>Miracle in the Rain</td>\n      <td>1.000000</td>\n      <td>3.0</td>\n      <td>0.757576</td>\n      <td>25.0</td>\n      <td>1956</td>\n      <td>False</td>\n    </tr>\n    <tr>\n      <th>889</th>\n      <td>889</td>\n      <td>105</td>\n      <td>Invincible</td>\n      <td>True</td>\n      <td>68930.0</td>\n      <td>Invincible</td>\n      <td>1.000000</td>\n      <td>1.0</td>\n      <td>1.000000</td>\n      <td>1.0</td>\n      <td>2006</td>\n      <td>False</td>\n    </tr>\n    <tr>\n      <th>556</th>\n      <td>556</td>\n      <td>100</td>\n      <td>Shootfighter: Fight to the Death</td>\n      <td>False</td>\n      <td>1193.0</td>\n      <td>Shootfighter: Fight to the Death</td>\n      <td>0.000000</td>\n      <td>0.0</td>\n      <td>0.000000</td>\n      <td>0.0</td>\n      <td>1993</td>\n      <td>False</td>\n    </tr>\n    <tr>\n      <th>3581</th>\n      <td>3581</td>\n      <td>95</td>\n      <td>Marie-Francine</td>\n      <td>False</td>\n      <td>1153.0</td>\n      <td>Marie-Francine</td>\n      <td>0.000000</td>\n      <td>0.0</td>\n      <td>0.000000</td>\n      <td>0.0</td>\n      <td>2017</td>\n      <td>False</td>\n    </tr>\n    <tr>\n      <th>...</th>\n      <td>...</td>\n      <td>...</td>\n      <td>...</td>\n      <td>...</td>\n      <td>...</td>\n      <td>...</td>\n      <td>...</td>\n      <td>...</td>\n      <td>...</td>\n      <td>...</td>\n      <td>...</td>\n      <td>...</td>\n    </tr>\n    <tr>\n      <th>3844</th>\n      <td>3844</td>\n      <td>98</td>\n      <td>Night Shift</td>\n      <td>False</td>\n      <td>1325.0</td>\n      <td>Police</td>\n      <td>0.000000</td>\n      <td>0.0</td>\n      <td>0.000000</td>\n      <td>0.0</td>\n      <td>2020</td>\n      <td>True</td>\n    </tr>\n    <tr>\n      <th>2079</th>\n      <td>2079</td>\n      <td>157</td>\n      <td>Khiladi</td>\n      <td>True</td>\n      <td>7963.0</td>\n      <td>Khiladi</td>\n      <td>0.272727</td>\n      <td>3.0</td>\n      <td>1.000000</td>\n      <td>2.0</td>\n      <td>1992</td>\n      <td>False</td>\n    </tr>\n    <tr>\n      <th>765</th>\n      <td>765</td>\n      <td>103</td>\n      <td>Summer Hours</td>\n      <td>True</td>\n      <td>7542.0</td>\n      <td>L'heure d'été</td>\n      <td>1.000000</td>\n      <td>31.0</td>\n      <td>1.000000</td>\n      <td>23.0</td>\n      <td>2008</td>\n      <td>True</td>\n    </tr>\n    <tr>\n      <th>2783</th>\n      <td>2783</td>\n      <td>87</td>\n      <td>Dirty Deeds</td>\n      <td>False</td>\n      <td>8522.0</td>\n      <td>Dirty Deeds</td>\n      <td>0.000000</td>\n      <td>0.0</td>\n      <td>0.000000</td>\n      <td>0.0</td>\n      <td>2005</td>\n      <td>False</td>\n    </tr>\n    <tr>\n      <th>3764</th>\n      <td>3764</td>\n      <td>97</td>\n      <td>Jack's Back</td>\n      <td>False</td>\n      <td>3301.0</td>\n      <td>Jack's Back</td>\n      <td>0.000000</td>\n      <td>0.0</td>\n      <td>0.000000</td>\n      <td>0.0</td>\n      <td>1988</td>\n      <td>False</td>\n    </tr>\n  </tbody>\n</table>\n<p>3971 rows × 12 columns</p>\n</div>"
     },
     "metadata": {},
     "output_type": "display_data"
    }
   ],
   "source": [
    "display(train_df)"
   ],
   "metadata": {
    "collapsed": false,
    "ExecuteTime": {
     "end_time": "2024-02-14T15:01:57.801410200Z",
     "start_time": "2024-02-14T15:01:57.770884500Z"
    }
   },
   "id": "35fa5747960f75d2"
  },
  {
   "cell_type": "code",
   "execution_count": 5,
   "outputs": [
    {
     "data": {
      "text/plain": "                                            primaryTitle  \\\ntconst                                                     \ntt0010600                                       The Doll   \ntt0010600                                       The Doll   \ntt0010600                                       The Doll   \ntt0010600                                       The Doll   \ntt0011841                                  Way Down East   \n...                                                  ...   \ntt9742392                                        Kindred   \ntt9850386  The Bee Gees: How Can You Mend a Broken Heart   \ntt9911196                            The Marriage Escape   \ntt9911196                            The Marriage Escape   \ntt9911196                            The Marriage Escape   \n\n                            originalTitle startYear endYear runtimeMinutes  \\\ntconst                                                                       \ntt0010600                       Die Puppe      1919      \\N             66   \ntt0010600                       Die Puppe      1919      \\N             66   \ntt0010600                       Die Puppe      1919      \\N             66   \ntt0010600                       Die Puppe      1919      \\N             66   \ntt0011841                   Way Down East      1920      \\N            145   \n...                                   ...       ...     ...            ...   \ntt9742392                         Kindred      2020      \\N            101   \ntt9850386                             NaN      2020      \\N            111   \ntt9911196  De beentjes van Sint-Hildegard      2020      \\N            103   \ntt9911196  De beentjes van Sint-Hildegard      2020      \\N            103   \ntt9911196  De beentjes van Sint-Hildegard      2020      \\N            103   \n\n           numVotes  label   director     writer  \ntconst                                            \ntt0010600    1898.0   True  nm0523932  nm0006782  \ntt0010600    1898.0   True  nm0523932  nm0473134  \ntt0010600    1898.0   True  nm0523932  nm0523932  \ntt0010600    1898.0   True  nm0523932  nm0932559  \ntt0011841    5376.0   True  nm0000428  nm0662461  \n...             ...    ...        ...        ...  \ntt9742392    1719.0  False  nm2660375  nm3553292  \ntt9850386    4144.0   True  nm0550881  nm0598531  \ntt9911196    3242.0   True  nm0631590  nm2063122  \ntt9911196    3242.0   True  nm0631590  nm0277932  \ntt9911196    3242.0   True  nm0631590  nm3547655  \n\n[22712 rows x 9 columns]",
      "text/html": "<div>\n<style scoped>\n    .dataframe tbody tr th:only-of-type {\n        vertical-align: middle;\n    }\n\n    .dataframe tbody tr th {\n        vertical-align: top;\n    }\n\n    .dataframe thead th {\n        text-align: right;\n    }\n</style>\n<table border=\"1\" class=\"dataframe\">\n  <thead>\n    <tr style=\"text-align: right;\">\n      <th></th>\n      <th>primaryTitle</th>\n      <th>originalTitle</th>\n      <th>startYear</th>\n      <th>endYear</th>\n      <th>runtimeMinutes</th>\n      <th>numVotes</th>\n      <th>label</th>\n      <th>director</th>\n      <th>writer</th>\n    </tr>\n    <tr>\n      <th>tconst</th>\n      <th></th>\n      <th></th>\n      <th></th>\n      <th></th>\n      <th></th>\n      <th></th>\n      <th></th>\n      <th></th>\n      <th></th>\n    </tr>\n  </thead>\n  <tbody>\n    <tr>\n      <th>tt0010600</th>\n      <td>The Doll</td>\n      <td>Die Puppe</td>\n      <td>1919</td>\n      <td>\\N</td>\n      <td>66</td>\n      <td>1898.0</td>\n      <td>True</td>\n      <td>nm0523932</td>\n      <td>nm0006782</td>\n    </tr>\n    <tr>\n      <th>tt0010600</th>\n      <td>The Doll</td>\n      <td>Die Puppe</td>\n      <td>1919</td>\n      <td>\\N</td>\n      <td>66</td>\n      <td>1898.0</td>\n      <td>True</td>\n      <td>nm0523932</td>\n      <td>nm0473134</td>\n    </tr>\n    <tr>\n      <th>tt0010600</th>\n      <td>The Doll</td>\n      <td>Die Puppe</td>\n      <td>1919</td>\n      <td>\\N</td>\n      <td>66</td>\n      <td>1898.0</td>\n      <td>True</td>\n      <td>nm0523932</td>\n      <td>nm0523932</td>\n    </tr>\n    <tr>\n      <th>tt0010600</th>\n      <td>The Doll</td>\n      <td>Die Puppe</td>\n      <td>1919</td>\n      <td>\\N</td>\n      <td>66</td>\n      <td>1898.0</td>\n      <td>True</td>\n      <td>nm0523932</td>\n      <td>nm0932559</td>\n    </tr>\n    <tr>\n      <th>tt0011841</th>\n      <td>Way Down East</td>\n      <td>Way Down East</td>\n      <td>1920</td>\n      <td>\\N</td>\n      <td>145</td>\n      <td>5376.0</td>\n      <td>True</td>\n      <td>nm0000428</td>\n      <td>nm0662461</td>\n    </tr>\n    <tr>\n      <th>...</th>\n      <td>...</td>\n      <td>...</td>\n      <td>...</td>\n      <td>...</td>\n      <td>...</td>\n      <td>...</td>\n      <td>...</td>\n      <td>...</td>\n      <td>...</td>\n    </tr>\n    <tr>\n      <th>tt9742392</th>\n      <td>Kindred</td>\n      <td>Kindred</td>\n      <td>2020</td>\n      <td>\\N</td>\n      <td>101</td>\n      <td>1719.0</td>\n      <td>False</td>\n      <td>nm2660375</td>\n      <td>nm3553292</td>\n    </tr>\n    <tr>\n      <th>tt9850386</th>\n      <td>The Bee Gees: How Can You Mend a Broken Heart</td>\n      <td>NaN</td>\n      <td>2020</td>\n      <td>\\N</td>\n      <td>111</td>\n      <td>4144.0</td>\n      <td>True</td>\n      <td>nm0550881</td>\n      <td>nm0598531</td>\n    </tr>\n    <tr>\n      <th>tt9911196</th>\n      <td>The Marriage Escape</td>\n      <td>De beentjes van Sint-Hildegard</td>\n      <td>2020</td>\n      <td>\\N</td>\n      <td>103</td>\n      <td>3242.0</td>\n      <td>True</td>\n      <td>nm0631590</td>\n      <td>nm2063122</td>\n    </tr>\n    <tr>\n      <th>tt9911196</th>\n      <td>The Marriage Escape</td>\n      <td>De beentjes van Sint-Hildegard</td>\n      <td>2020</td>\n      <td>\\N</td>\n      <td>103</td>\n      <td>3242.0</td>\n      <td>True</td>\n      <td>nm0631590</td>\n      <td>nm0277932</td>\n    </tr>\n    <tr>\n      <th>tt9911196</th>\n      <td>The Marriage Escape</td>\n      <td>De beentjes van Sint-Hildegard</td>\n      <td>2020</td>\n      <td>\\N</td>\n      <td>103</td>\n      <td>3242.0</td>\n      <td>True</td>\n      <td>nm0631590</td>\n      <td>nm3547655</td>\n    </tr>\n  </tbody>\n</table>\n<p>22712 rows × 9 columns</p>\n</div>"
     },
     "metadata": {},
     "output_type": "display_data"
    }
   ],
   "source": [
    "display(dataset.complete_df)"
   ],
   "metadata": {
    "collapsed": false
   }
  },
  {
   "cell_type": "code",
   "execution_count": null,
   "outputs": [],
   "source": [],
   "metadata": {
    "collapsed": false
   }
  }
 ],
 "metadata": {
  "kernelspec": {
   "display_name": "Python 3",
   "language": "python",
   "name": "python3"
  },
  "language_info": {
   "codemirror_mode": {
    "name": "ipython",
    "version": 2
   },
   "file_extension": ".py",
   "mimetype": "text/x-python",
   "name": "python",
   "nbconvert_exporter": "python",
   "pygments_lexer": "ipython2",
   "version": "2.7.6"
  }
 },
 "nbformat": 4,
 "nbformat_minor": 5
}
