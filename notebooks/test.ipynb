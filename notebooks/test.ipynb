{
 "cells": [
  {
   "cell_type": "code",
   "execution_count": 1,
   "id": "initial_id",
   "metadata": {
    "collapsed": true,
    "ExecuteTime": {
     "end_time": "2024-02-14T15:01:50.927733600Z",
     "start_time": "2024-02-14T15:01:49.596656400Z"
    }
   },
   "outputs": [],
   "source": [
    "import pandas as pd\n",
    "from pipeline import Dataset"
   ]
  },
  {
   "cell_type": "code",
   "execution_count": 2,
   "outputs": [
    {
     "name": "stderr",
     "output_type": "stream",
     "text": [
      "C:\\Users\\olive\\Desktop\\MSc\\BigDataProject_IMDB\\pipeline\\_dataset.py:50: FutureWarning: A value is trying to be set on a copy of a DataFrame or Series through chained assignment using an inplace method.\n",
      "The behavior will change in pandas 3.0. This inplace method will never work because the intermediate object on which we are setting values always behaves as a copy.\n",
      "\n",
      "For example, when doing 'df[col].method(value, inplace=True)', try using 'df.method({col: value}, inplace=True)' or df[col] = df[col].method(value) instead, to perform the operation inplace on the original object.\n",
      "\n",
      "\n",
      "  df[\"numVotes\"].fillna(df[\"numVotes\"].median(), inplace=True)\n",
      "C:\\Users\\olive\\Desktop\\MSc\\BigDataProject_IMDB\\pipeline\\_dataset.py:51: FutureWarning: A value is trying to be set on a copy of a DataFrame or Series through chained assignment using an inplace method.\n",
      "The behavior will change in pandas 3.0. This inplace method will never work because the intermediate object on which we are setting values always behaves as a copy.\n",
      "\n",
      "For example, when doing 'df[col].method(value, inplace=True)', try using 'df.method({col: value}, inplace=True)' or df[col] = df[col].method(value) instead, to perform the operation inplace on the original object.\n",
      "\n",
      "\n",
      "  df[\"runtimeMinutes\"].replace({r\"\\N\": None}, inplace=True)\n",
      "C:\\Users\\olive\\Desktop\\MSc\\BigDataProject_IMDB\\pipeline\\_dataset.py:52: FutureWarning: A value is trying to be set on a copy of a DataFrame or Series through chained assignment using an inplace method.\n",
      "The behavior will change in pandas 3.0. This inplace method will never work because the intermediate object on which we are setting values always behaves as a copy.\n",
      "\n",
      "For example, when doing 'df[col].method(value, inplace=True)', try using 'df.method({col: value}, inplace=True)' or df[col] = df[col].method(value) instead, to perform the operation inplace on the original object.\n",
      "\n",
      "\n",
      "  df[\"runtimeMinutes\"].fillna(df[\"runtimeMinutes\"].median(), inplace=True)\n"
     ]
    }
   ],
   "source": [
    "dataset = Dataset(splits=(0.8, 0.2))\n",
    "dataset.generate_datasplit()"
   ],
   "metadata": {
    "collapsed": false,
    "ExecuteTime": {
     "end_time": "2024-02-14T15:01:56.113741Z",
     "start_time": "2024-02-14T15:01:51.194743300Z"
    }
   },
   "id": "79e8d896c26d9ad3"
  },
  {
   "cell_type": "code",
   "execution_count": 3,
   "outputs": [],
   "source": [
    "train_df = dataset.train_df"
   ],
   "metadata": {
    "collapsed": false,
    "ExecuteTime": {
     "end_time": "2024-02-14T15:01:56.857613300Z",
     "start_time": "2024-02-14T15:01:56.836605800Z"
    }
   },
   "id": "d33ec424d1e26cce"
  },
  {
   "cell_type": "code",
   "execution_count": 4,
   "outputs": [
    {
     "data": {
      "text/plain": "      index runtimeMinutes  label  numVotes            originalTitle  \\\n1461   1461            110   True  326432.0                True Grit   \n792     792            137   True  721266.0        Kill Bill: Vol. 2   \n3415   3415             93  False    2072.0                 Survivor   \n1012   1012            102   True    2208.0           Sibir. Monamur   \n1844   1844            124  False    1003.0       Slaves of New York   \n...     ...            ...    ...       ...                      ...   \n2244   2244            157  False    1398.0    Velipadinte Pusthakam   \n988     988            102  False    2848.0        Downloading Nancy   \n2543   2543             78  False    1704.0      Splatter University   \n2115   2115            140   True   85321.0                  La Môme   \n2996   2996             88   True    1448.0  Has Anybody Seen My Gal   \n\n                 primaryTitle  director_score_mean_mean  \\\n1461                True Grit                  1.000000   \n792         Kill Bill: Vol. 2                  1.000000   \n3415                 Survivor                  0.000000   \n1012           Sibir. Monamur                  1.000000   \n1844       Slávés ớf Néw Yớrk                  0.000000   \n...                       ...                       ...   \n2244    Velipadinte Pusthakam                  0.928571   \n988         Downloading Nancy                  0.000000   \n2543      Splatter University                  0.000000   \n2115           La Vie En Rose                  0.500000   \n2996  Has Anybody Seen My Gal                  1.000000   \n\n      director_score_mean_total  writer_score_mean_mean  \\\n1461                       44.0                0.960784   \n792                         5.0                0.900000   \n3415                        0.0                0.000000   \n1012                        1.0                1.000000   \n1844                        0.0                0.000000   \n...                         ...                     ...   \n2244                       13.0                0.500000   \n988                         0.0                0.000000   \n2543                        0.0                0.000000   \n2115                        2.0                0.750000   \n2996                       11.0                1.000000   \n\n      writer_score_mean_total  year  titles_changed  \n1461                     22.0  2010           False  \n792                       2.5  2004           False  \n3415                      0.0  2014           False  \n1012                      1.0  2011           False  \n1844                      0.0  1989            True  \n...                       ...   ...             ...  \n2244                      1.0  2017           False  \n988                       0.0  2008           False  \n2543                      0.0  1984           False  \n2115                      1.0  2007            True  \n2996                      1.5  1952           False  \n\n[3971 rows x 12 columns]",
      "text/html": "<div>\n<style scoped>\n    .dataframe tbody tr th:only-of-type {\n        vertical-align: middle;\n    }\n\n    .dataframe tbody tr th {\n        vertical-align: top;\n    }\n\n    .dataframe thead th {\n        text-align: right;\n    }\n</style>\n<table border=\"1\" class=\"dataframe\">\n  <thead>\n    <tr style=\"text-align: right;\">\n      <th></th>\n      <th>index</th>\n      <th>runtimeMinutes</th>\n      <th>label</th>\n      <th>numVotes</th>\n      <th>originalTitle</th>\n      <th>primaryTitle</th>\n      <th>director_score_mean_mean</th>\n      <th>director_score_mean_total</th>\n      <th>writer_score_mean_mean</th>\n      <th>writer_score_mean_total</th>\n      <th>year</th>\n      <th>titles_changed</th>\n    </tr>\n  </thead>\n  <tbody>\n    <tr>\n      <th>1461</th>\n      <td>1461</td>\n      <td>110</td>\n      <td>True</td>\n      <td>326432.0</td>\n      <td>True Grit</td>\n      <td>True Grit</td>\n      <td>1.000000</td>\n      <td>44.0</td>\n      <td>0.960784</td>\n      <td>22.0</td>\n      <td>2010</td>\n      <td>False</td>\n    </tr>\n    <tr>\n      <th>792</th>\n      <td>792</td>\n      <td>137</td>\n      <td>True</td>\n      <td>721266.0</td>\n      <td>Kill Bill: Vol. 2</td>\n      <td>Kill Bill: Vol. 2</td>\n      <td>1.000000</td>\n      <td>5.0</td>\n      <td>0.900000</td>\n      <td>2.5</td>\n      <td>2004</td>\n      <td>False</td>\n    </tr>\n    <tr>\n      <th>3415</th>\n      <td>3415</td>\n      <td>93</td>\n      <td>False</td>\n      <td>2072.0</td>\n      <td>Survivor</td>\n      <td>Survivor</td>\n      <td>0.000000</td>\n      <td>0.0</td>\n      <td>0.000000</td>\n      <td>0.0</td>\n      <td>2014</td>\n      <td>False</td>\n    </tr>\n    <tr>\n      <th>1012</th>\n      <td>1012</td>\n      <td>102</td>\n      <td>True</td>\n      <td>2208.0</td>\n      <td>Sibir. Monamur</td>\n      <td>Sibir. Monamur</td>\n      <td>1.000000</td>\n      <td>1.0</td>\n      <td>1.000000</td>\n      <td>1.0</td>\n      <td>2011</td>\n      <td>False</td>\n    </tr>\n    <tr>\n      <th>1844</th>\n      <td>1844</td>\n      <td>124</td>\n      <td>False</td>\n      <td>1003.0</td>\n      <td>Slaves of New York</td>\n      <td>Slávés ớf Néw Yớrk</td>\n      <td>0.000000</td>\n      <td>0.0</td>\n      <td>0.000000</td>\n      <td>0.0</td>\n      <td>1989</td>\n      <td>True</td>\n    </tr>\n    <tr>\n      <th>...</th>\n      <td>...</td>\n      <td>...</td>\n      <td>...</td>\n      <td>...</td>\n      <td>...</td>\n      <td>...</td>\n      <td>...</td>\n      <td>...</td>\n      <td>...</td>\n      <td>...</td>\n      <td>...</td>\n      <td>...</td>\n    </tr>\n    <tr>\n      <th>2244</th>\n      <td>2244</td>\n      <td>157</td>\n      <td>False</td>\n      <td>1398.0</td>\n      <td>Velipadinte Pusthakam</td>\n      <td>Velipadinte Pusthakam</td>\n      <td>0.928571</td>\n      <td>13.0</td>\n      <td>0.500000</td>\n      <td>1.0</td>\n      <td>2017</td>\n      <td>False</td>\n    </tr>\n    <tr>\n      <th>988</th>\n      <td>988</td>\n      <td>102</td>\n      <td>False</td>\n      <td>2848.0</td>\n      <td>Downloading Nancy</td>\n      <td>Downloading Nancy</td>\n      <td>0.000000</td>\n      <td>0.0</td>\n      <td>0.000000</td>\n      <td>0.0</td>\n      <td>2008</td>\n      <td>False</td>\n    </tr>\n    <tr>\n      <th>2543</th>\n      <td>2543</td>\n      <td>78</td>\n      <td>False</td>\n      <td>1704.0</td>\n      <td>Splatter University</td>\n      <td>Splatter University</td>\n      <td>0.000000</td>\n      <td>0.0</td>\n      <td>0.000000</td>\n      <td>0.0</td>\n      <td>1984</td>\n      <td>False</td>\n    </tr>\n    <tr>\n      <th>2115</th>\n      <td>2115</td>\n      <td>140</td>\n      <td>True</td>\n      <td>85321.0</td>\n      <td>La Môme</td>\n      <td>La Vie En Rose</td>\n      <td>0.500000</td>\n      <td>2.0</td>\n      <td>0.750000</td>\n      <td>1.0</td>\n      <td>2007</td>\n      <td>True</td>\n    </tr>\n    <tr>\n      <th>2996</th>\n      <td>2996</td>\n      <td>88</td>\n      <td>True</td>\n      <td>1448.0</td>\n      <td>Has Anybody Seen My Gal</td>\n      <td>Has Anybody Seen My Gal</td>\n      <td>1.000000</td>\n      <td>11.0</td>\n      <td>1.000000</td>\n      <td>1.5</td>\n      <td>1952</td>\n      <td>False</td>\n    </tr>\n  </tbody>\n</table>\n<p>3971 rows × 12 columns</p>\n</div>"
     },
     "metadata": {},
     "output_type": "display_data"
    }
   ],
   "source": [
    "display(train_df)"
   ],
   "metadata": {
    "collapsed": false,
    "ExecuteTime": {
     "end_time": "2024-02-14T15:01:57.801410200Z",
     "start_time": "2024-02-14T15:01:57.770884500Z"
    }
   },
   "id": "35fa5747960f75d2"
  },
  {
   "cell_type": "code",
   "execution_count": 5,
   "outputs": [
    {
     "data": {
      "text/plain": "                                            primaryTitle  \\\ntconst                                                     \ntt0010600                                       The Doll   \ntt0010600                                       The Doll   \ntt0010600                                       The Doll   \ntt0010600                                       The Doll   \ntt0011841                                  Way Down East   \n...                                                  ...   \ntt9742392                                        Kindred   \ntt9850386  The Bee Gees: How Can You Mend a Broken Heart   \ntt9911196                            The Marriage Escape   \ntt9911196                            The Marriage Escape   \ntt9911196                            The Marriage Escape   \n\n                            originalTitle startYear endYear runtimeMinutes  \\\ntconst                                                                       \ntt0010600                       Die Puppe      1919      \\N             66   \ntt0010600                       Die Puppe      1919      \\N             66   \ntt0010600                       Die Puppe      1919      \\N             66   \ntt0010600                       Die Puppe      1919      \\N             66   \ntt0011841                   Way Down East      1920      \\N            145   \n...                                   ...       ...     ...            ...   \ntt9742392                         Kindred      2020      \\N            101   \ntt9850386                             NaN      2020      \\N            111   \ntt9911196  De beentjes van Sint-Hildegard      2020      \\N            103   \ntt9911196  De beentjes van Sint-Hildegard      2020      \\N            103   \ntt9911196  De beentjes van Sint-Hildegard      2020      \\N            103   \n\n           numVotes  label   director     writer  \ntconst                                            \ntt0010600    1898.0   True  nm0523932  nm0006782  \ntt0010600    1898.0   True  nm0523932  nm0473134  \ntt0010600    1898.0   True  nm0523932  nm0523932  \ntt0010600    1898.0   True  nm0523932  nm0932559  \ntt0011841    5376.0   True  nm0000428  nm0662461  \n...             ...    ...        ...        ...  \ntt9742392    1719.0  False  nm2660375  nm3553292  \ntt9850386    4144.0   True  nm0550881  nm0598531  \ntt9911196    3242.0   True  nm0631590  nm2063122  \ntt9911196    3242.0   True  nm0631590  nm0277932  \ntt9911196    3242.0   True  nm0631590  nm3547655  \n\n[22712 rows x 9 columns]",
      "text/html": "<div>\n<style scoped>\n    .dataframe tbody tr th:only-of-type {\n        vertical-align: middle;\n    }\n\n    .dataframe tbody tr th {\n        vertical-align: top;\n    }\n\n    .dataframe thead th {\n        text-align: right;\n    }\n</style>\n<table border=\"1\" class=\"dataframe\">\n  <thead>\n    <tr style=\"text-align: right;\">\n      <th></th>\n      <th>primaryTitle</th>\n      <th>originalTitle</th>\n      <th>startYear</th>\n      <th>endYear</th>\n      <th>runtimeMinutes</th>\n      <th>numVotes</th>\n      <th>label</th>\n      <th>director</th>\n      <th>writer</th>\n    </tr>\n    <tr>\n      <th>tconst</th>\n      <th></th>\n      <th></th>\n      <th></th>\n      <th></th>\n      <th></th>\n      <th></th>\n      <th></th>\n      <th></th>\n      <th></th>\n    </tr>\n  </thead>\n  <tbody>\n    <tr>\n      <th>tt0010600</th>\n      <td>The Doll</td>\n      <td>Die Puppe</td>\n      <td>1919</td>\n      <td>\\N</td>\n      <td>66</td>\n      <td>1898.0</td>\n      <td>True</td>\n      <td>nm0523932</td>\n      <td>nm0006782</td>\n    </tr>\n    <tr>\n      <th>tt0010600</th>\n      <td>The Doll</td>\n      <td>Die Puppe</td>\n      <td>1919</td>\n      <td>\\N</td>\n      <td>66</td>\n      <td>1898.0</td>\n      <td>True</td>\n      <td>nm0523932</td>\n      <td>nm0473134</td>\n    </tr>\n    <tr>\n      <th>tt0010600</th>\n      <td>The Doll</td>\n      <td>Die Puppe</td>\n      <td>1919</td>\n      <td>\\N</td>\n      <td>66</td>\n      <td>1898.0</td>\n      <td>True</td>\n      <td>nm0523932</td>\n      <td>nm0523932</td>\n    </tr>\n    <tr>\n      <th>tt0010600</th>\n      <td>The Doll</td>\n      <td>Die Puppe</td>\n      <td>1919</td>\n      <td>\\N</td>\n      <td>66</td>\n      <td>1898.0</td>\n      <td>True</td>\n      <td>nm0523932</td>\n      <td>nm0932559</td>\n    </tr>\n    <tr>\n      <th>tt0011841</th>\n      <td>Way Down East</td>\n      <td>Way Down East</td>\n      <td>1920</td>\n      <td>\\N</td>\n      <td>145</td>\n      <td>5376.0</td>\n      <td>True</td>\n      <td>nm0000428</td>\n      <td>nm0662461</td>\n    </tr>\n    <tr>\n      <th>...</th>\n      <td>...</td>\n      <td>...</td>\n      <td>...</td>\n      <td>...</td>\n      <td>...</td>\n      <td>...</td>\n      <td>...</td>\n      <td>...</td>\n      <td>...</td>\n    </tr>\n    <tr>\n      <th>tt9742392</th>\n      <td>Kindred</td>\n      <td>Kindred</td>\n      <td>2020</td>\n      <td>\\N</td>\n      <td>101</td>\n      <td>1719.0</td>\n      <td>False</td>\n      <td>nm2660375</td>\n      <td>nm3553292</td>\n    </tr>\n    <tr>\n      <th>tt9850386</th>\n      <td>The Bee Gees: How Can You Mend a Broken Heart</td>\n      <td>NaN</td>\n      <td>2020</td>\n      <td>\\N</td>\n      <td>111</td>\n      <td>4144.0</td>\n      <td>True</td>\n      <td>nm0550881</td>\n      <td>nm0598531</td>\n    </tr>\n    <tr>\n      <th>tt9911196</th>\n      <td>The Marriage Escape</td>\n      <td>De beentjes van Sint-Hildegard</td>\n      <td>2020</td>\n      <td>\\N</td>\n      <td>103</td>\n      <td>3242.0</td>\n      <td>True</td>\n      <td>nm0631590</td>\n      <td>nm2063122</td>\n    </tr>\n    <tr>\n      <th>tt9911196</th>\n      <td>The Marriage Escape</td>\n      <td>De beentjes van Sint-Hildegard</td>\n      <td>2020</td>\n      <td>\\N</td>\n      <td>103</td>\n      <td>3242.0</td>\n      <td>True</td>\n      <td>nm0631590</td>\n      <td>nm0277932</td>\n    </tr>\n    <tr>\n      <th>tt9911196</th>\n      <td>The Marriage Escape</td>\n      <td>De beentjes van Sint-Hildegard</td>\n      <td>2020</td>\n      <td>\\N</td>\n      <td>103</td>\n      <td>3242.0</td>\n      <td>True</td>\n      <td>nm0631590</td>\n      <td>nm3547655</td>\n    </tr>\n  </tbody>\n</table>\n<p>22712 rows × 9 columns</p>\n</div>"
     },
     "metadata": {},
     "output_type": "display_data"
    }
   ],
   "source": [
    "display(dataset.complete_df)"
   ],
   "metadata": {
    "collapsed": false
   }
  },
  {
   "cell_type": "code",
   "execution_count": null,
   "outputs": [],
   "source": [],
   "metadata": {
    "collapsed": false
   }
  }
 ],
 "metadata": {
  "kernelspec": {
   "display_name": "Python 3",
   "language": "python",
   "name": "python3"
  },
  "language_info": {
   "codemirror_mode": {
    "name": "ipython",
    "version": 2
   },
   "file_extension": ".py",
   "mimetype": "text/x-python",
   "name": "python",
   "nbconvert_exporter": "python",
   "pygments_lexer": "ipython2",
   "version": "2.7.6"
  }
 },
 "nbformat": 4,
 "nbformat_minor": 5
}
