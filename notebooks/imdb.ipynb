{
 "cells": [
  {
   "cell_type": "code",
   "execution_count": 1,
   "metadata": {
    "ExecuteTime": {
     "end_time": "2024-02-14T15:18:07.319717600Z",
     "start_time": "2024-02-14T15:18:05.549143200Z"
    }
   },
   "outputs": [],
   "source": [
    "from sklearn.model_selection import cross_val_score, GridSearchCV\n",
    "from sklearn.ensemble import RandomForestClassifier\n",
    "from sklearn.metrics import accuracy_score\n",
    "from pipeline import Dataset"
   ]
  },
  {
   "cell_type": "code",
   "execution_count": 2,
   "outputs": [
    {
     "name": "stderr",
     "output_type": "stream",
     "text": [
      "C:\\Users\\Oliver\\PycharmProjects\\BigDataProject_IMDB\\pipeline\\_dataset.py:41: FutureWarning: A value is trying to be set on a copy of a DataFrame or Series through chained assignment using an inplace method.\n",
      "The behavior will change in pandas 3.0. This inplace method will never work because the intermediate object on which we are setting values always behaves as a copy.\n",
      "\n",
      "For example, when doing 'df[col].method(value, inplace=True)', try using 'df.method({col: value}, inplace=True)' or df[col] = df[col].method(value) instead, to perform the operation inplace on the original object.\n",
      "\n",
      "\n",
      "  self._complete_df[\"numVotes\"].fillna(0, inplace=True)\n",
      "C:\\Users\\Oliver\\PycharmProjects\\BigDataProject_IMDB\\pipeline\\_dataset.py:42: FutureWarning: A value is trying to be set on a copy of a DataFrame or Series through chained assignment using an inplace method.\n",
      "The behavior will change in pandas 3.0. This inplace method will never work because the intermediate object on which we are setting values always behaves as a copy.\n",
      "\n",
      "For example, when doing 'df[col].method(value, inplace=True)', try using 'df.method({col: value}, inplace=True)' or df[col] = df[col].method(value) instead, to perform the operation inplace on the original object.\n",
      "\n",
      "\n",
      "  self._complete_df[\"runtimeMinutes\"].replace({r\"\\N\": 0}, inplace=True)\n"
     ]
    }
   ],
   "source": [
    "dataset = Dataset(splits=(0.8, 0.2))\n",
    "dataset.generate_datasplit()"
   ],
   "metadata": {
    "collapsed": false,
    "ExecuteTime": {
     "end_time": "2024-02-14T15:18:12.316718300Z",
     "start_time": "2024-02-14T15:18:07.328713300Z"
    }
   }
  },
  {
   "cell_type": "code",
   "execution_count": 3,
   "outputs": [],
   "source": [
    "train = dataset.train_df[dataset.train_df.columns.drop([\"primaryTitle\", \"originalTitle\"])]\n",
    "train_X, train_y = train[train.columns.drop('label')], train[\"label\"]\n",
    "\n",
    "test = dataset.test_df[dataset.train_df.columns.drop([\"primaryTitle\", \"originalTitle\"])]\n",
    "test_X, test_y = test[test.columns.drop('label')], test[\"label\"]"
   ],
   "metadata": {
    "collapsed": false,
    "ExecuteTime": {
     "end_time": "2024-02-14T15:18:12.339721200Z",
     "start_time": "2024-02-14T15:18:12.319713500Z"
    }
   }
  },
  {
   "cell_type": "code",
   "execution_count": 6,
   "metadata": {
    "ExecuteTime": {
     "end_time": "2024-02-14T15:19:03.648083700Z",
     "start_time": "2024-02-14T15:18:18.869820500Z"
    }
   },
   "outputs": [
    {
     "name": "stdout",
     "output_type": "stream",
     "text": [
      "Best parameters: {'max_depth': 6, 'n_estimators': 300}\n",
      "Accuracy: 0.9904306220095693\n",
      "Cross-validated Accuracy: 0.9853932797870824\n"
     ]
    }
   ],
   "source": [
    "clf = RandomForestClassifier(max_depth=2, random_state=42)\n",
    "\n",
    "# Define the parameter grid to search\n",
    "param_grid = {\n",
    "    'max_depth': [2, 4, 6, 8],\n",
    "    'n_estimators': [50, 100, 200, 300]\n",
    "}\n",
    "\n",
    "\n",
    "# Initialize GridSearchCV\n",
    "grid_search = GridSearchCV(clf, param_grid, cv=5, scoring='accuracy')\n",
    "\n",
    "# Fit the model with GridSearchCV\n",
    "grid_search.fit(train_X, train_y)\n",
    "\n",
    "# Get the best parameters and estimator\n",
    "best_params = grid_search.best_params_\n",
    "best_estimator = grid_search.best_estimator_\n",
    "\n",
    "# Print the best parameters\n",
    "print(\"Best parameters:\", best_params)\n",
    "\n",
    "# Use the best estimator to make predictions\n",
    "y_pred = best_estimator.predict(test_X)\n",
    "\n",
    "# Measure accuracy\n",
    "accuracy = accuracy_score(test_y, y_pred)\n",
    "print(\"Accuracy:\", accuracy)\n",
    "\n",
    "# Perform K-fold cross-validation and print the mean accuracy\n",
    "cv_accuracy = cross_val_score(best_estimator, train_X, train_y, cv=5, scoring='accuracy')\n",
    "print(\"Cross-validated Accuracy:\", cv_accuracy.mean())"
   ]
  },
  {
   "cell_type": "markdown",
   "metadata": {},
   "source": [
    "### Overfitting a bit hehe "
   ]
  },
  {
   "cell_type": "markdown",
   "metadata": {},
   "source": [
    "## Prepare CSV files for kaggle"
   ]
  },
  {
   "cell_type": "markdown",
   "metadata": {},
   "source": [
    "Asuming that the format will be index + prediction"
   ]
  },
  {
   "cell_type": "code",
   "execution_count": 198,
   "metadata": {},
   "outputs": [],
   "source": [
    "validation = get_scores_val_test(validation)\n",
    "test = get_scores_val_test(test)"
   ]
  },
  {
   "cell_type": "code",
   "execution_count": 199,
   "metadata": {},
   "outputs": [],
   "source": [
    "validation[\"label\"] = best_estimator.predict(validation[feature_cols])\n",
    "test[\"label\"] = best_estimator.predict(test[feature_cols])\n",
    "\n",
    "validation[\"label\"].to_csv(\"val_result.csv\")\n",
    "test[\"label\"].to_csv(\"test_result.csv\")"
   ]
  },
  {
   "cell_type": "code",
   "execution_count": null,
   "metadata": {},
   "outputs": [],
   "source": []
  }
 ],
 "metadata": {
  "kernelspec": {
   "display_name": "env_bd",
   "language": "python",
   "name": "python3"
  },
  "language_info": {
   "codemirror_mode": {
    "name": "ipython",
    "version": 3
   },
   "file_extension": ".py",
   "mimetype": "text/x-python",
   "name": "python",
   "nbconvert_exporter": "python",
   "pygments_lexer": "ipython3",
   "version": "3.11.7"
  }
 },
 "nbformat": 4,
 "nbformat_minor": 2
}
