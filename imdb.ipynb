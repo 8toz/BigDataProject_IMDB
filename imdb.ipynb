{
 "cells": [
  {
   "cell_type": "code",
   "execution_count": 12,
   "metadata": {},
   "outputs": [],
   "source": [
    "import os\n",
    "import pandas as pd"
   ]
  },
  {
   "cell_type": "code",
   "execution_count": 13,
   "metadata": {},
   "outputs": [],
   "source": [
    "files = \"./data\""
   ]
  },
  {
   "cell_type": "code",
   "execution_count": 138,
   "metadata": {},
   "outputs": [],
   "source": [
    "def preprocess_data(files):\n",
    "    dfs = []\n",
    "    directing_df = pd.DataFrame()\n",
    "    writing_df = pd.DataFrame()\n",
    "    for file in os.listdir(files):\n",
    "        fn_no_ext = file.split(\".\")[0]\n",
    "        if \".json\" in file:\n",
    "            globals()[fn_no_ext+\"_df\"] = pd.read_json(os.path.join(files, file))\n",
    "            print(\"Created \", fn_no_ext+\"_df\", \" dataframe.\")\n",
    "        elif \".csv\" in file:\n",
    "            if \"validation\" in file:\n",
    "                validation_df = pd.read_csv(os.path.join(files, file), index_col=0, na_values=['\\\\N'])\n",
    "                continue\n",
    "            elif \"test\" in file:\n",
    "                test_df = pd.read_csv(os.path.join(files, file), index_col=0, na_values=['\\\\N'])\n",
    "                continue\n",
    "            df = pd.read_csv(os.path.join(files, file), index_col=0, na_values=['\\\\N'])\n",
    "            print(\"Appending: \", df.shape[0], \" rows...\")\n",
    "            dfs.append(df)\n",
    "            train_df = pd.concat(dfs, ignore_index=True)\n",
    "        else: \n",
    "            pass\n",
    "        \n",
    "    directing_df = globals()['directing_df']\n",
    "    directing_df.replace('\\\\N', pd.NA, inplace=True)\n",
    "    writing_df = globals()['writing_df']    \n",
    "    writing_df.replace('\\\\N', pd.NA, inplace=True)\n",
    "\n",
    "\n",
    "    return train_df, validation_df, test_df, directing_df, writing_df\n",
    "    \n"
   ]
  },
  {
   "cell_type": "code",
   "execution_count": 139,
   "metadata": {},
   "outputs": [
    {
     "name": "stdout",
     "output_type": "stream",
     "text": [
      "Created  directing_df  dataframe.\n",
      "Appending:  963  rows...\n",
      "Appending:  993  rows...\n",
      "Appending:  951  rows...\n",
      "Appending:  1049  rows...\n",
      "Appending:  974  rows...\n",
      "Appending:  1001  rows...\n",
      "Appending:  1035  rows...\n",
      "Appending:  993  rows...\n",
      "Created  writing_df  dataframe.\n",
      "Train shape:  (7959, 8)\n",
      "Validation shape:  (955, 7)\n",
      "Test shape:  (1086, 7)\n"
     ]
    }
   ],
   "source": [
    "train, validation, test, directing_df, writing_df = preprocess_data(files)\n",
    "print(\"Train shape: \", train.shape)\n",
    "print(\"Validation shape: \", validation.shape)\n",
    "print(\"Test shape: \", test.shape)"
   ]
  },
  {
   "cell_type": "markdown",
   "metadata": {},
   "source": [
    "## Data cleaning"
   ]
  },
  {
   "cell_type": "code",
   "execution_count": 140,
   "metadata": {},
   "outputs": [],
   "source": [
    "# If needed"
   ]
  },
  {
   "cell_type": "markdown",
   "metadata": {},
   "source": [
    "## EDA"
   ]
  },
  {
   "cell_type": "markdown",
   "metadata": {},
   "source": [
    "There are N director for each movie"
   ]
  },
  {
   "cell_type": "code",
   "execution_count": 141,
   "metadata": {},
   "outputs": [
    {
     "data": {
      "text/plain": [
       "movie\n",
       "tt1687247    35\n",
       "tt1935896    27\n",
       "tt0401711    21\n",
       "tt0099273    13\n",
       "tt1333125    13\n",
       "             ..\n",
       "tt0137523     1\n",
       "tt0137799     1\n",
       "tt0138074     1\n",
       "tt0138097     1\n",
       "tt9911196     1\n",
       "Name: count, Length: 10000, dtype: int64"
      ]
     },
     "execution_count": 141,
     "metadata": {},
     "output_type": "execute_result"
    }
   ],
   "source": [
    "directors_df = pd.read_json(os.path.join(files, \"directing.json\"))\n",
    "directors_df[\"movie\"].value_counts()\n"
   ]
  },
  {
   "cell_type": "markdown",
   "metadata": {},
   "source": [
    "There are M writters for each movie"
   ]
  },
  {
   "cell_type": "code",
   "execution_count": 143,
   "metadata": {},
   "outputs": [
    {
     "data": {
      "text/plain": [
       "writer\n",
       "\\N           297\n",
       "nm0000636     25\n",
       "nm0372942     25\n",
       "nm0440604     18\n",
       "nm0080327     16\n",
       "            ... \n",
       "nm0813219      1\n",
       "nm0207566      1\n",
       "nm0104631      1\n",
       "nm0513197      1\n",
       "nm3547655      1\n",
       "Name: count, Length: 15248, dtype: int64"
      ]
     },
     "execution_count": 143,
     "metadata": {},
     "output_type": "execute_result"
    }
   ],
   "source": [
    "writers_df = pd.read_json(os.path.join(files, \"writing.json\"))\n",
    "writers_df[\"movie\"].value_counts()\n",
    "writers_df[\"writer\"].value_counts()"
   ]
  },
  {
   "cell_type": "markdown",
   "metadata": {},
   "source": [
    "## Simple Machine Learning Pipeline"
   ]
  },
  {
   "cell_type": "code",
   "execution_count": 144,
   "metadata": {},
   "outputs": [],
   "source": [
    "# TODO add writters and directors as categorical features to the data, for instance movie tt0401711 will have 29 ones and 15247 zeros"
   ]
  },
  {
   "cell_type": "code",
   "execution_count": 145,
   "metadata": {},
   "outputs": [],
   "source": [
    "# TODO do the same with directors"
   ]
  },
  {
   "cell_type": "code",
   "execution_count": 118,
   "metadata": {},
   "outputs": [],
   "source": [
    "feature_cols = [\"runtimeMinutes\", \"numVotes\"]\n",
    "X, y = train[feature_cols], train[\"label\"]"
   ]
  },
  {
   "cell_type": "code",
   "execution_count": 123,
   "metadata": {},
   "outputs": [],
   "source": [
    "from sklearn.model_selection import train_test_split, cross_val_score, GridSearchCV\n",
    "from sklearn.ensemble import RandomForestClassifier\n",
    "from sklearn.metrics import accuracy_score\n",
    "\n",
    "X_train, X_test, y_train, y_test = train_test_split(X, y, test_size=0.2, random_state=42)"
   ]
  },
  {
   "cell_type": "code",
   "execution_count": 125,
   "metadata": {},
   "outputs": [
    {
     "name": "stdout",
     "output_type": "stream",
     "text": [
      "Best parameters: {'max_depth': 4, 'n_estimators': 200}\n",
      "Accuracy: 0.6890703517587939\n",
      "Cross-validated Accuracy: 0.6799079049107105\n"
     ]
    }
   ],
   "source": [
    "clf = RandomForestClassifier(max_depth=2, random_state=42)\n",
    "\n",
    "# Define the parameter grid to search\n",
    "param_grid = {\n",
    "    'max_depth': [2, 4, 6, 8],\n",
    "    'n_estimators': [50, 100, 200, 300]\n",
    "}\n",
    "\n",
    "\n",
    "# Initialize GridSearchCV\n",
    "grid_search = GridSearchCV(clf, param_grid, cv=5, scoring='accuracy')\n",
    "\n",
    "# Fit the model with GridSearchCV\n",
    "grid_search.fit(X_train, y_train)\n",
    "\n",
    "# Get the best parameters and estimator\n",
    "best_params = grid_search.best_params_\n",
    "best_estimator = grid_search.best_estimator_\n",
    "\n",
    "# Print the best parameters\n",
    "print(\"Best parameters:\", best_params)\n",
    "\n",
    "# Use the best estimator to make predictions\n",
    "y_pred = best_estimator.predict(X_test)\n",
    "\n",
    "# Measure accuracy\n",
    "accuracy = accuracy_score(y_test, y_pred)\n",
    "print(\"Accuracy:\", accuracy)\n",
    "\n",
    "# Perform K-fold cross-validation and print the mean accuracy\n",
    "cv_accuracy = cross_val_score(best_estimator, X_train, y_train, cv=5, scoring='accuracy')\n",
    "print(\"Cross-validated Accuracy:\", cv_accuracy.mean())"
   ]
  },
  {
   "cell_type": "markdown",
   "metadata": {},
   "source": [
    "## Prepare CSV files for kaggle"
   ]
  },
  {
   "cell_type": "markdown",
   "metadata": {},
   "source": [
    "Asuming that the format will be index + prediction"
   ]
  },
  {
   "cell_type": "code",
   "execution_count": 131,
   "metadata": {},
   "outputs": [],
   "source": [
    "validation[\"label\"] = best_estimator.predict(validation[feature_cols])\n",
    "test[\"label\"] = best_estimator.predict(test[feature_cols])\n",
    "\n",
    "validation[\"label\"].to_csv(\"val_result.csv\")\n",
    "test[\"label\"].to_csv(\"test_result.csv\")"
   ]
  },
  {
   "cell_type": "code",
   "execution_count": null,
   "metadata": {},
   "outputs": [],
   "source": []
  }
 ],
 "metadata": {
  "kernelspec": {
   "display_name": "env_bd",
   "language": "python",
   "name": "python3"
  },
  "language_info": {
   "codemirror_mode": {
    "name": "ipython",
    "version": 3
   },
   "file_extension": ".py",
   "mimetype": "text/x-python",
   "name": "python",
   "nbconvert_exporter": "python",
   "pygments_lexer": "ipython3",
   "version": "3.11.7"
  }
 },
 "nbformat": 4,
 "nbformat_minor": 2
}
