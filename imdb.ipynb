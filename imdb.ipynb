{
 "cells": [
  {
   "cell_type": "code",
   "execution_count": 46,
   "metadata": {},
   "outputs": [],
   "source": [
    "import os\n",
    "import pandas as pd\n",
    "import matplotlib.pyplot as plt"
   ]
  },
  {
   "cell_type": "code",
   "execution_count": 47,
   "metadata": {},
   "outputs": [],
   "source": [
    "files = \"./data\""
   ]
  },
  {
   "cell_type": "code",
   "execution_count": 91,
   "metadata": {},
   "outputs": [],
   "source": [
    "def preprocess_data(files):\n",
    "    dfs = []\n",
    "    directing_df = pd.DataFrame()\n",
    "    writing_df = pd.DataFrame()\n",
    "    for file in os.listdir(files):\n",
    "        fn_no_ext = file.split(\".\")[0]\n",
    "        if \".json\" in file:\n",
    "            globals()[fn_no_ext+\"_df\"] = pd.read_json(os.path.join(files, file))\n",
    "            print(\"Created \", fn_no_ext+\"_df\", \" dataframe.\")\n",
    "        elif \".csv\" in file:\n",
    "            if \"validation\" in file:\n",
    "                validation_df = pd.read_csv(os.path.join(files, file), index_col=0, na_values=['\\\\N'])\n",
    "                continue\n",
    "            elif \"test\" in file:\n",
    "                test_df = pd.read_csv(os.path.join(files, file), index_col=0, na_values=['\\\\N'])\n",
    "                continue\n",
    "            df = pd.read_csv(os.path.join(files, file), index_col=0, na_values=['\\\\N'])\n",
    "            print(\"Appending: \", df.shape[0], \" rows...\")\n",
    "            dfs.append(df)\n",
    "            train_df = pd.concat(dfs, ignore_index=True)\n",
    "        else: \n",
    "            pass\n",
    "        \n",
    "    directing_df = globals()['directing_df']\n",
    "    directing_df.replace('\\\\N', pd.NA, inplace=True)\n",
    "    writing_df = globals()['writing_df']    \n",
    "    writing_df.replace('\\\\N', pd.NA, inplace=True)\n",
    "\n",
    "\n",
    "    return train_df, validation_df, test_df, directing_df, writing_df\n",
    "    \n"
   ]
  },
  {
   "cell_type": "code",
   "execution_count": 92,
   "metadata": {},
   "outputs": [
    {
     "name": "stdout",
     "output_type": "stream",
     "text": [
      "Created  directing_df  dataframe.\n",
      "Appending:  963  rows...\n",
      "Appending:  993  rows...\n",
      "Appending:  951  rows...\n",
      "Appending:  1049  rows...\n",
      "Appending:  974  rows...\n",
      "Appending:  1001  rows...\n",
      "Appending:  1035  rows...\n",
      "Appending:  993  rows...\n",
      "Created  writing_df  dataframe.\n",
      "Train shape:  (7959, 8)\n",
      "Validation shape:  (955, 7)\n",
      "Test shape:  (1086, 7)\n"
     ]
    }
   ],
   "source": [
    "train, validation, test, directing_df, writing_df = preprocess_data(files)\n",
    "print(\"Train shape: \", train.shape)\n",
    "print(\"Validation shape: \", validation.shape)\n",
    "print(\"Test shape: \", test.shape)"
   ]
  },
  {
   "cell_type": "markdown",
   "metadata": {},
   "source": [
    "## Data cleaning"
   ]
  },
  {
   "cell_type": "code",
   "execution_count": 93,
   "metadata": {},
   "outputs": [],
   "source": [
    "# TODO remove writers without movies\n",
    "writing_df = writing_df.dropna()\n",
    "\n",
    "# TODO Meaning of end and start Date, maybe we can only keep one col\n"
   ]
  },
  {
   "cell_type": "markdown",
   "metadata": {},
   "source": [
    "## EDA"
   ]
  },
  {
   "cell_type": "markdown",
   "metadata": {},
   "source": [
    "There are N director for each movie"
   ]
  },
  {
   "cell_type": "code",
   "execution_count": 94,
   "metadata": {},
   "outputs": [
    {
     "data": {
      "image/png": "[encoded data removed]",
      "text/plain": [
       "<Figure size 640x480 with 1 Axes>"
      ]
     },
     "metadata": {},
     "output_type": "display_data"
    }
   ],
   "source": [
    "directing_score = directing_df.merge(train, how=\"inner\", left_on=\"movie\", right_on=\"tconst\")\n",
    "directing_score = directing_score.groupby(\"director\").agg([ \"sum\", \"count\"])[\"label\"]\n",
    "directing_score[\"score\"] = directing_score[\"sum\"]/directing_score[\"count\"]\n",
    "directing_df = directing_df.merge(directing_score, how=\"left\", left_on=\"director\", right_on=\"director\")\n",
    "directing_df = directing_df.fillna(0.5)\n",
    "plt.hist(directing_score[\"score\"])\n",
    "plt.show()\n"
   ]
  },
  {
   "cell_type": "code",
   "execution_count": 95,
   "metadata": {},
   "outputs": [
    {
     "data": {
      "image/png": "[encoded data removed]",
      "text/plain": [
       "<Figure size 640x480 with 1 Axes>"
      ]
     },
     "metadata": {},
     "output_type": "display_data"
    }
   ],
   "source": [
    "writing_score = writing_df.merge(train, how=\"inner\", left_on=\"movie\", right_on=\"tconst\")\n",
    "writing_score = writing_score.groupby(\"writer\").agg([ \"sum\", \"count\"])[\"label\"]\n",
    "writing_score[\"score\"] = writing_score[\"sum\"]/writing_score[\"count\"]\n",
    "writing_df = writing_df.merge(writing_score, how=\"left\", left_on=\"writer\", right_on=\"writer\")\n",
    "writing_df = writing_df.fillna(0.5)\n",
    "plt.hist(writing_df[\"score\"])\n",
    "plt.show()"
   ]
  },
  {
   "cell_type": "code",
   "execution_count": 178,
   "metadata": {},
   "outputs": [],
   "source": [
    "def get_scores_train(df):\n",
    "    df = df.merge(directing_df, how=\"left\", left_on=\"tconst\", right_on=\"movie\", suffixes=(\"_directors\", \"_writers\"))\n",
    "    df = df.groupby([\"tconst\",\"numVotes\", \"runtimeMinutes\", \"label\"])[[\"score\"]].agg([\"mean\", \"count\"])\n",
    "    df.columns = ['_'.join(col) for col in df.columns]\n",
    "    df = df[[\"score_mean\", \"score_count\"]]\n",
    "    df = df.rename(columns={\"score_mean\":\"avg_director_score\", \"score_count\":\"n_directors\"})\n",
    "    df = df.reset_index()\n",
    "    df = df.merge(writing_df, how=\"left\", left_on=\"tconst\", right_on=\"movie\", suffixes=(\"_directors\", \"_writers\"))\n",
    "    df = df.groupby([\"tconst\", \"numVotes\", \"runtimeMinutes\", \"avg_director_score\", \"n_directors\", \"label\"])[[\"score\"]].agg([\"mean\", \"count\"])\n",
    "    df.columns = ['_'.join(col) for col in df.columns]\n",
    "    df = df.reset_index()\n",
    "    df = df.rename(columns={\"score_mean\":\"avg_writer_score\", \"score_count\":\"n_writers\"})\n",
    "    return df"
   ]
  },
  {
   "cell_type": "code",
   "execution_count": 200,
   "metadata": {},
   "outputs": [],
   "source": [
    "def get_scores_val_test(df):\n",
    "    # Same as the previous method but removing the label column from it\n",
    "    df = df.merge(directing_df, how=\"left\", left_on=\"tconst\", right_on=\"movie\", suffixes=(\"_directors\", \"_writers\"))\n",
    "    df = df.groupby([\"tconst\",\"numVotes\", \"runtimeMinutes\"])[[\"score\"]].agg([\"mean\", \"count\"])\n",
    "    df.columns = ['_'.join(col) for col in df.columns]\n",
    "    df = df[[\"score_mean\", \"score_count\"]]\n",
    "    df = df.rename(columns={\"score_mean\":\"avg_director_score\", \"score_count\":\"n_directors\"})\n",
    "    df = df.reset_index()\n",
    "    df = df.merge(writing_df, how=\"left\", left_on=\"tconst\", right_on=\"movie\", suffixes=(\"_directors\", \"_writers\"))\n",
    "    df = df.groupby([\"tconst\", \"numVotes\", \"runtimeMinutes\", \"avg_director_score\", \"n_directors\"])[[\"score\"]].agg([\"mean\", \"count\"])\n",
    "    df.columns = ['_'.join(col) for col in df.columns]\n",
    "    df = df.reset_index()\n",
    "    df = df.rename(columns={\"score_mean\":\"avg_writer_score\", \"score_count\":\"n_writers\"})\n",
    "    return df"
   ]
  },
  {
   "cell_type": "code",
   "execution_count": 180,
   "metadata": {},
   "outputs": [],
   "source": [
    "train = get_scores_train(train)\n"
   ]
  },
  {
   "cell_type": "markdown",
   "metadata": {},
   "source": [
    "## Simple Machine Learning Pipeline"
   ]
  },
  {
   "cell_type": "code",
   "execution_count": 144,
   "metadata": {},
   "outputs": [],
   "source": [
    "# TODO add writters and directors as categorical features to the data, for instance movie tt0401711 will have 29 ones and 15247 zeros"
   ]
  },
  {
   "cell_type": "code",
   "execution_count": 145,
   "metadata": {},
   "outputs": [],
   "source": [
    "# TODO do the same with directors"
   ]
  },
  {
   "cell_type": "code",
   "execution_count": 181,
   "metadata": {},
   "outputs": [
    {
     "data": {
      "text/html": [
       "<div>\n",
       "<style scoped>\n",
       "    .dataframe tbody tr th:only-of-type {\n",
       "        vertical-align: middle;\n",
       "    }\n",
       "\n",
       "    .dataframe tbody tr th {\n",
       "        vertical-align: top;\n",
       "    }\n",
       "\n",
       "    .dataframe thead th {\n",
       "        text-align: right;\n",
       "    }\n",
       "</style>\n",
       "<table border=\"1\" class=\"dataframe\">\n",
       "  <thead>\n",
       "    <tr style=\"text-align: right;\">\n",
       "      <th></th>\n",
       "      <th>tconst</th>\n",
       "      <th>numVotes</th>\n",
       "      <th>runtimeMinutes</th>\n",
       "      <th>avg_director_score</th>\n",
       "      <th>n_directors</th>\n",
       "      <th>label</th>\n",
       "      <th>avg_writer_score</th>\n",
       "      <th>n_writers</th>\n",
       "    </tr>\n",
       "  </thead>\n",
       "  <tbody>\n",
       "    <tr>\n",
       "      <th>0</th>\n",
       "      <td>tt0009369</td>\n",
       "      <td>1119.0</td>\n",
       "      <td>93.0</td>\n",
       "      <td>0.0</td>\n",
       "      <td>2</td>\n",
       "      <td>False</td>\n",
       "      <td>0.000000</td>\n",
       "      <td>2</td>\n",
       "    </tr>\n",
       "    <tr>\n",
       "      <th>1</th>\n",
       "      <td>tt0010600</td>\n",
       "      <td>1898.0</td>\n",
       "      <td>66.0</td>\n",
       "      <td>1.0</td>\n",
       "      <td>1</td>\n",
       "      <td>True</td>\n",
       "      <td>0.916667</td>\n",
       "      <td>4</td>\n",
       "    </tr>\n",
       "    <tr>\n",
       "      <th>2</th>\n",
       "      <td>tt0011439</td>\n",
       "      <td>2439.0</td>\n",
       "      <td>79.0</td>\n",
       "      <td>1.0</td>\n",
       "      <td>1</td>\n",
       "      <td>True</td>\n",
       "      <td>1.000000</td>\n",
       "      <td>3</td>\n",
       "    </tr>\n",
       "    <tr>\n",
       "      <th>3</th>\n",
       "      <td>tt0011607</td>\n",
       "      <td>1264.0</td>\n",
       "      <td>94.0</td>\n",
       "      <td>1.0</td>\n",
       "      <td>1</td>\n",
       "      <td>True</td>\n",
       "      <td>1.000000</td>\n",
       "      <td>2</td>\n",
       "    </tr>\n",
       "    <tr>\n",
       "      <th>4</th>\n",
       "      <td>tt0011841</td>\n",
       "      <td>5376.0</td>\n",
       "      <td>145.0</td>\n",
       "      <td>1.0</td>\n",
       "      <td>1</td>\n",
       "      <td>True</td>\n",
       "      <td>1.000000</td>\n",
       "      <td>5</td>\n",
       "    </tr>\n",
       "  </tbody>\n",
       "</table>\n",
       "</div>"
      ],
      "text/plain": [
       "      tconst  numVotes  runtimeMinutes  avg_director_score  n_directors  \\\n",
       "0  tt0009369    1119.0            93.0                 0.0            2   \n",
       "1  tt0010600    1898.0            66.0                 1.0            1   \n",
       "2  tt0011439    2439.0            79.0                 1.0            1   \n",
       "3  tt0011607    1264.0            94.0                 1.0            1   \n",
       "4  tt0011841    5376.0           145.0                 1.0            1   \n",
       "\n",
       "   label  avg_writer_score  n_writers  \n",
       "0  False          0.000000          2  \n",
       "1   True          0.916667          4  \n",
       "2   True          1.000000          3  \n",
       "3   True          1.000000          2  \n",
       "4   True          1.000000          5  "
      ]
     },
     "execution_count": 181,
     "metadata": {},
     "output_type": "execute_result"
    }
   ],
   "source": [
    "train.head()"
   ]
  },
  {
   "cell_type": "code",
   "execution_count": 192,
   "metadata": {},
   "outputs": [],
   "source": [
    "feature_cols = [\"runtimeMinutes\", \"numVotes\", \"avg_director_score\",\t\"n_directors\", \"avg_writer_score\",\"n_writers\"]\n",
    "X, y = train[feature_cols], train[\"label\"]"
   ]
  },
  {
   "cell_type": "code",
   "execution_count": 193,
   "metadata": {},
   "outputs": [
    {
     "data": {
      "text/html": [
       "<div>\n",
       "<style scoped>\n",
       "    .dataframe tbody tr th:only-of-type {\n",
       "        vertical-align: middle;\n",
       "    }\n",
       "\n",
       "    .dataframe tbody tr th {\n",
       "        vertical-align: top;\n",
       "    }\n",
       "\n",
       "    .dataframe thead th {\n",
       "        text-align: right;\n",
       "    }\n",
       "</style>\n",
       "<table border=\"1\" class=\"dataframe\">\n",
       "  <thead>\n",
       "    <tr style=\"text-align: right;\">\n",
       "      <th></th>\n",
       "      <th>tconst</th>\n",
       "      <th>numVotes</th>\n",
       "      <th>runtimeMinutes</th>\n",
       "      <th>avg_director_score</th>\n",
       "      <th>n_directors</th>\n",
       "      <th>label</th>\n",
       "      <th>avg_writer_score</th>\n",
       "      <th>n_writers</th>\n",
       "    </tr>\n",
       "  </thead>\n",
       "  <tbody>\n",
       "    <tr>\n",
       "      <th>0</th>\n",
       "      <td>tt0009369</td>\n",
       "      <td>1119.0</td>\n",
       "      <td>93.0</td>\n",
       "      <td>0.0</td>\n",
       "      <td>2</td>\n",
       "      <td>False</td>\n",
       "      <td>0.000000</td>\n",
       "      <td>2</td>\n",
       "    </tr>\n",
       "    <tr>\n",
       "      <th>1</th>\n",
       "      <td>tt0010600</td>\n",
       "      <td>1898.0</td>\n",
       "      <td>66.0</td>\n",
       "      <td>1.0</td>\n",
       "      <td>1</td>\n",
       "      <td>True</td>\n",
       "      <td>0.916667</td>\n",
       "      <td>4</td>\n",
       "    </tr>\n",
       "    <tr>\n",
       "      <th>2</th>\n",
       "      <td>tt0011439</td>\n",
       "      <td>2439.0</td>\n",
       "      <td>79.0</td>\n",
       "      <td>1.0</td>\n",
       "      <td>1</td>\n",
       "      <td>True</td>\n",
       "      <td>1.000000</td>\n",
       "      <td>3</td>\n",
       "    </tr>\n",
       "    <tr>\n",
       "      <th>3</th>\n",
       "      <td>tt0011607</td>\n",
       "      <td>1264.0</td>\n",
       "      <td>94.0</td>\n",
       "      <td>1.0</td>\n",
       "      <td>1</td>\n",
       "      <td>True</td>\n",
       "      <td>1.000000</td>\n",
       "      <td>2</td>\n",
       "    </tr>\n",
       "    <tr>\n",
       "      <th>4</th>\n",
       "      <td>tt0011841</td>\n",
       "      <td>5376.0</td>\n",
       "      <td>145.0</td>\n",
       "      <td>1.0</td>\n",
       "      <td>1</td>\n",
       "      <td>True</td>\n",
       "      <td>1.000000</td>\n",
       "      <td>5</td>\n",
       "    </tr>\n",
       "    <tr>\n",
       "      <th>...</th>\n",
       "      <td>...</td>\n",
       "      <td>...</td>\n",
       "      <td>...</td>\n",
       "      <td>...</td>\n",
       "      <td>...</td>\n",
       "      <td>...</td>\n",
       "      <td>...</td>\n",
       "      <td>...</td>\n",
       "    </tr>\n",
       "    <tr>\n",
       "      <th>7152</th>\n",
       "      <td>tt9840958</td>\n",
       "      <td>3769.0</td>\n",
       "      <td>92.0</td>\n",
       "      <td>0.0</td>\n",
       "      <td>1</td>\n",
       "      <td>False</td>\n",
       "      <td>0.000000</td>\n",
       "      <td>2</td>\n",
       "    </tr>\n",
       "    <tr>\n",
       "      <th>7153</th>\n",
       "      <td>tt9845110</td>\n",
       "      <td>2451.0</td>\n",
       "      <td>99.0</td>\n",
       "      <td>1.0</td>\n",
       "      <td>1</td>\n",
       "      <td>True</td>\n",
       "      <td>1.000000</td>\n",
       "      <td>3</td>\n",
       "    </tr>\n",
       "    <tr>\n",
       "      <th>7154</th>\n",
       "      <td>tt9850344</td>\n",
       "      <td>1325.0</td>\n",
       "      <td>98.0</td>\n",
       "      <td>0.0</td>\n",
       "      <td>1</td>\n",
       "      <td>False</td>\n",
       "      <td>0.000000</td>\n",
       "      <td>3</td>\n",
       "    </tr>\n",
       "    <tr>\n",
       "      <th>7155</th>\n",
       "      <td>tt9850386</td>\n",
       "      <td>4144.0</td>\n",
       "      <td>111.0</td>\n",
       "      <td>1.0</td>\n",
       "      <td>1</td>\n",
       "      <td>True</td>\n",
       "      <td>1.000000</td>\n",
       "      <td>1</td>\n",
       "    </tr>\n",
       "    <tr>\n",
       "      <th>7156</th>\n",
       "      <td>tt9911196</td>\n",
       "      <td>3242.0</td>\n",
       "      <td>103.0</td>\n",
       "      <td>1.0</td>\n",
       "      <td>1</td>\n",
       "      <td>True</td>\n",
       "      <td>1.000000</td>\n",
       "      <td>3</td>\n",
       "    </tr>\n",
       "  </tbody>\n",
       "</table>\n",
       "<p>7157 rows × 8 columns</p>\n",
       "</div>"
      ],
      "text/plain": [
       "         tconst  numVotes  runtimeMinutes  avg_director_score  n_directors  \\\n",
       "0     tt0009369    1119.0            93.0                 0.0            2   \n",
       "1     tt0010600    1898.0            66.0                 1.0            1   \n",
       "2     tt0011439    2439.0            79.0                 1.0            1   \n",
       "3     tt0011607    1264.0            94.0                 1.0            1   \n",
       "4     tt0011841    5376.0           145.0                 1.0            1   \n",
       "...         ...       ...             ...                 ...          ...   \n",
       "7152  tt9840958    3769.0            92.0                 0.0            1   \n",
       "7153  tt9845110    2451.0            99.0                 1.0            1   \n",
       "7154  tt9850344    1325.0            98.0                 0.0            1   \n",
       "7155  tt9850386    4144.0           111.0                 1.0            1   \n",
       "7156  tt9911196    3242.0           103.0                 1.0            1   \n",
       "\n",
       "      label  avg_writer_score  n_writers  \n",
       "0     False          0.000000          2  \n",
       "1      True          0.916667          4  \n",
       "2      True          1.000000          3  \n",
       "3      True          1.000000          2  \n",
       "4      True          1.000000          5  \n",
       "...     ...               ...        ...  \n",
       "7152  False          0.000000          2  \n",
       "7153   True          1.000000          3  \n",
       "7154  False          0.000000          3  \n",
       "7155   True          1.000000          1  \n",
       "7156   True          1.000000          3  \n",
       "\n",
       "[7157 rows x 8 columns]"
      ]
     },
     "execution_count": 193,
     "metadata": {},
     "output_type": "execute_result"
    }
   ],
   "source": [
    "train"
   ]
  },
  {
   "cell_type": "code",
   "execution_count": 194,
   "metadata": {},
   "outputs": [],
   "source": [
    "from sklearn.model_selection import train_test_split, cross_val_score, GridSearchCV\n",
    "from sklearn.ensemble import RandomForestClassifier\n",
    "from sklearn.metrics import accuracy_score\n",
    "\n",
    "X_train, X_test, y_train, y_test = train_test_split(X, y, test_size=0.5, random_state=42)"
   ]
  },
  {
   "cell_type": "code",
   "execution_count": 195,
   "metadata": {},
   "outputs": [
    {
     "name": "stdout",
     "output_type": "stream",
     "text": [
      "Best parameters: {'max_depth': 8, 'n_estimators': 100}\n",
      "Accuracy: 0.985470801899972\n",
      "Cross-validated Accuracy: 0.9846271047388366\n"
     ]
    }
   ],
   "source": [
    "clf = RandomForestClassifier(max_depth=2, random_state=42)\n",
    "\n",
    "# Define the parameter grid to search\n",
    "param_grid = {\n",
    "    'max_depth': [2, 4, 6, 8],\n",
    "    'n_estimators': [50, 100, 200, 300]\n",
    "}\n",
    "\n",
    "\n",
    "# Initialize GridSearchCV\n",
    "grid_search = GridSearchCV(clf, param_grid, cv=5, scoring='accuracy')\n",
    "\n",
    "# Fit the model with GridSearchCV\n",
    "grid_search.fit(X_train, y_train)\n",
    "\n",
    "# Get the best parameters and estimator\n",
    "best_params = grid_search.best_params_\n",
    "best_estimator = grid_search.best_estimator_\n",
    "\n",
    "# Print the best parameters\n",
    "print(\"Best parameters:\", best_params)\n",
    "\n",
    "# Use the best estimator to make predictions\n",
    "y_pred = best_estimator.predict(X_test)\n",
    "\n",
    "# Measure accuracy\n",
    "accuracy = accuracy_score(y_test, y_pred)\n",
    "print(\"Accuracy:\", accuracy)\n",
    "\n",
    "# Perform K-fold cross-validation and print the mean accuracy\n",
    "cv_accuracy = cross_val_score(best_estimator, X_train, y_train, cv=5, scoring='accuracy')\n",
    "print(\"Cross-validated Accuracy:\", cv_accuracy.mean())"
   ]
  },
  {
   "cell_type": "markdown",
   "metadata": {},
   "source": [
    "### Overfitting a bit hehe "
   ]
  },
  {
   "cell_type": "markdown",
   "metadata": {},
   "source": [
    "## Prepare CSV files for kaggle"
   ]
  },
  {
   "cell_type": "markdown",
   "metadata": {},
   "source": [
    "Asuming that the format will be index + prediction"
   ]
  },
  {
   "cell_type": "code",
   "execution_count": 198,
   "metadata": {},
   "outputs": [],
   "source": [
    "validation = get_scores_val_test(validation)\n",
    "test = get_scores_val_test(test)"
   ]
  },
  {
   "cell_type": "code",
   "execution_count": 199,
   "metadata": {},
   "outputs": [],
   "source": [
    "validation[\"label\"] = best_estimator.predict(validation[feature_cols])\n",
    "test[\"label\"] = best_estimator.predict(test[feature_cols])\n",
    "\n",
    "validation[\"label\"].to_csv(\"val_result.csv\")\n",
    "test[\"label\"].to_csv(\"test_result.csv\")"
   ]
  },
  {
   "cell_type": "code",
   "execution_count": null,
   "metadata": {},
   "outputs": [],
   "source": []
  }
 ],
 "metadata": {
  "kernelspec": {
   "display_name": "env_bd",
   "language": "python",
   "name": "python3"
  },
  "language_info": {
   "codemirror_mode": {
    "name": "ipython",
    "version": 3
   },
   "file_extension": ".py",
   "mimetype": "text/x-python",
   "name": "python",
   "nbconvert_exporter": "python",
   "pygments_lexer": "ipython3",
   "version": "3.11.7"
  }
 },
 "nbformat": 4,
 "nbformat_minor": 2
}
